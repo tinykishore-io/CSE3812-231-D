{
 "cells": [
  {
   "cell_type": "markdown",
   "source": [
    "### Assignment #2: Hill Climbing search algorithm\n",
    "##### Wed Feb 28, 2023\n",
    "##### CSE 3812 Artificial Intelligence Laboratory\n",
    "<hr>\n"
   ],
   "metadata": {
    "collapsed": false
   }
  },
  {
   "cell_type": "code",
   "execution_count": null,
   "metadata": {
    "collapsed": true
   },
   "outputs": [],
   "source": []
  }
 ],
 "metadata": {
  "kernelspec": {
   "display_name": "Python 3",
   "language": "python",
   "name": "python3"
  },
  "language_info": {
   "codemirror_mode": {
    "name": "ipython",
    "version": 2
   },
   "file_extension": ".py",
   "mimetype": "text/x-python",
   "name": "python",
   "nbconvert_exporter": "python",
   "pygments_lexer": "ipython2",
   "version": "2.7.6"
  }
 },
 "nbformat": 4,
 "nbformat_minor": 0
}
